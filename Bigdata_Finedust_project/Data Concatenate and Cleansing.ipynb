{
 "cells": [
  {
   "cell_type": "code",
   "execution_count": null,
   "id": "0216b18e",
   "metadata": {},
   "outputs": [],
   "source": [
    "#df0113"
   ]
  },
  {
   "cell_type": "code",
   "execution_count": 1,
   "id": "33b47d4e",
   "metadata": {},
   "outputs": [],
   "source": [
    "import pandas as pd\n",
    "import numpy as np"
   ]
  },
  {
   "cell_type": "code",
   "execution_count": 2,
   "id": "9a377887",
   "metadata": {},
   "outputs": [
    {
     "name": "stderr",
     "output_type": "stream",
     "text": [
      "c:\\python38\\lib\\site-packages\\IPython\\core\\interactiveshell.py:3169: DtypeWarning: Columns (4) have mixed types.Specify dtype option on import or set low_memory=False.\n",
      "  has_raised = await self.run_ast_nodes(code_ast.body, cell_name,\n"
     ]
    }
   ],
   "source": [
    "d0113 = pd.read_csv(r'C:\\Users\\82103\\Downloads\\df0113.csv')"
   ]
  },
  {
   "cell_type": "code",
   "execution_count": 3,
   "id": "9441f8de",
   "metadata": {},
   "outputs": [],
   "source": [
    "df0113= d0113.drop(['Unnamed: 0','측정소코드','측정소명', 'SO2', 'CO', 'O3', 'NO2', '주소'], axis=1)"
   ]
  },
  {
   "cell_type": "code",
   "execution_count": 4,
   "id": "a0c770f0",
   "metadata": {},
   "outputs": [],
   "source": [
    "df0113['지역'] = df0113.지역.str[:2]"
   ]
  },
  {
   "cell_type": "code",
   "execution_count": 5,
   "id": "5598a773",
   "metadata": {},
   "outputs": [],
   "source": [
    "df0113['PM10'] = df0113.PM10.replace(-999, np.nan)"
   ]
  },
  {
   "cell_type": "code",
   "execution_count": 6,
   "id": "8d7dfe1e",
   "metadata": {},
   "outputs": [],
   "source": [
    "df0113['측정일시'] = df0113['측정일시'].astype(str)"
   ]
  },
  {
   "cell_type": "code",
   "execution_count": 7,
   "id": "7d02aa2a",
   "metadata": {},
   "outputs": [],
   "source": [
    "a= df0113.iloc[:5026440, 1].str[:6]"
   ]
  },
  {
   "cell_type": "code",
   "execution_count": 8,
   "id": "16ebd94e",
   "metadata": {},
   "outputs": [],
   "source": [
    "b= df0113.iloc[5026440:6841224, 1].str.replace('-','')"
   ]
  },
  {
   "cell_type": "code",
   "execution_count": 9,
   "id": "b1ec16da",
   "metadata": {},
   "outputs": [],
   "source": [
    "b1 = b.str[:6]"
   ]
  },
  {
   "cell_type": "code",
   "execution_count": 10,
   "id": "c1be5e4b",
   "metadata": {},
   "outputs": [],
   "source": [
    "c= df0113.iloc[6841224:, 1].str[:6]"
   ]
  },
  {
   "cell_type": "code",
   "execution_count": 11,
   "id": "dd1f0688",
   "metadata": {},
   "outputs": [],
   "source": [
    "df0113['측정일시']=pd.concat([a, b1, c], ignore_index=True)"
   ]
  },
  {
   "cell_type": "code",
   "execution_count": 12,
   "id": "0215954c",
   "metadata": {},
   "outputs": [],
   "source": [
    "df0113['측정일시']=pd.to_numeric(df0113['측정일시'])"
   ]
  },
  {
   "cell_type": "code",
   "execution_count": 13,
   "id": "094af6e6",
   "metadata": {},
   "outputs": [],
   "source": [
    "fill_mean_func = lambda x : x.fillna(x.mean())"
   ]
  },
  {
   "cell_type": "code",
   "execution_count": 14,
   "id": "36341280",
   "metadata": {},
   "outputs": [],
   "source": [
    "df0113['PM10']=df0113.groupby(['지역', '측정일시']).transform(fill_mean_func)"
   ]
  },
  {
   "cell_type": "code",
   "execution_count": 15,
   "id": "8981053e",
   "metadata": {},
   "outputs": [],
   "source": [
    "#df1416"
   ]
  },
  {
   "cell_type": "code",
   "execution_count": 16,
   "id": "aacba2ca",
   "metadata": {},
   "outputs": [],
   "source": [
    "d1416 = pd.read_csv(r'C:\\Users\\82103\\Downloads\\df1416.csv')\n",
    "df1416= d1416.drop(['Unnamed: 0','측정소코드','측정소명', 'SO2', 'CO', 'O3', 'NO2','PM25', '주소'], axis=1)\n",
    "df1416['지역'] = df1416.지역.str[:2]\n",
    "df1416['PM10'] = df1416.PM10.replace(-999, np.nan)\n",
    "\n",
    "df1416['측정일시'] = df1416['측정일시'].astype(str)\n",
    "df1416['측정일시'] = df1416['측정일시'].str[:6]\n",
    "df1416['측정일시']=pd.to_numeric(df1416['측정일시'])\n",
    "\n",
    "fill_mean_func = lambda x : x.fillna(x.mean())\n",
    "df1416['PM10']=df1416.groupby(['지역', '측정일시']).transform(fill_mean_func)"
   ]
  },
  {
   "cell_type": "code",
   "execution_count": 17,
   "id": "ee0be984",
   "metadata": {},
   "outputs": [],
   "source": [
    "#df1721"
   ]
  },
  {
   "cell_type": "code",
   "execution_count": 18,
   "id": "a22c5dbe",
   "metadata": {},
   "outputs": [
    {
     "name": "stderr",
     "output_type": "stream",
     "text": [
      "c:\\python38\\lib\\site-packages\\IPython\\core\\interactiveshell.py:3169: DtypeWarning: Columns (2) have mixed types.Specify dtype option on import or set low_memory=False.\n",
      "  has_raised = await self.run_ast_nodes(code_ast.body, cell_name,\n"
     ]
    }
   ],
   "source": [
    "import pandas as pd\n",
    "import numpy as np\n",
    "d1721 = pd.read_csv(r'C:\\Users\\82103\\Downloads\\df1721.csv')\n",
    "df1721= d1721.drop(['Unnamed: 0','측정소코드','측정소명', '망', 'SO2', 'CO', 'O3', 'NO2','PM25', '주소'], axis=1)\n",
    "df1721['지역'] = df1721.지역.str[:2]\n",
    "df1721['PM10'] = df1721.PM10.replace(-999, np.nan)\n",
    "\n",
    "df1721['측정일시'] = df1721['측정일시'].astype(str)\n",
    "df1721['측정일시'] = df1721['측정일시'].str[:6]\n",
    "df1721['측정일시']=pd.to_numeric(df1721['측정일시'])\n",
    "\n",
    "fill_mean_func = lambda x : x.fillna(x.mean())\n",
    "df1721['PM10']=df1721.groupby(['지역', '측정일시']).transform(fill_mean_func)\n"
   ]
  },
  {
   "cell_type": "code",
   "execution_count": 20,
   "id": "ef7c575c",
   "metadata": {},
   "outputs": [],
   "source": [
    "df0113 = pd.DataFrame(df0113)\n",
    "df1416 = pd.DataFrame(df1416)\n",
    "df1721 = pd.DataFrame(df1721)\n",
    "\n",
    "df0121 = pd.concat([df0113, df1416, df1721] , ignore_index=True)"
   ]
  },
  {
   "cell_type": "code",
   "execution_count": 21,
   "id": "6048baa4",
   "metadata": {},
   "outputs": [
    {
     "data": {
      "text/html": [
       "<div>\n",
       "<style scoped>\n",
       "    .dataframe tbody tr th:only-of-type {\n",
       "        vertical-align: middle;\n",
       "    }\n",
       "\n",
       "    .dataframe tbody tr th {\n",
       "        vertical-align: top;\n",
       "    }\n",
       "\n",
       "    .dataframe thead th {\n",
       "        text-align: right;\n",
       "    }\n",
       "</style>\n",
       "<table border=\"1\" class=\"dataframe\">\n",
       "  <thead>\n",
       "    <tr style=\"text-align: right;\">\n",
       "      <th></th>\n",
       "      <th>지역</th>\n",
       "      <th>측정일시</th>\n",
       "      <th>PM10</th>\n",
       "    </tr>\n",
       "  </thead>\n",
       "  <tbody>\n",
       "    <tr>\n",
       "      <th>0</th>\n",
       "      <td>서울</td>\n",
       "      <td>200101</td>\n",
       "      <td>69.04635</td>\n",
       "    </tr>\n",
       "    <tr>\n",
       "      <th>1</th>\n",
       "      <td>서울</td>\n",
       "      <td>200101</td>\n",
       "      <td>69.04635</td>\n",
       "    </tr>\n",
       "    <tr>\n",
       "      <th>2</th>\n",
       "      <td>서울</td>\n",
       "      <td>200101</td>\n",
       "      <td>69.04635</td>\n",
       "    </tr>\n",
       "    <tr>\n",
       "      <th>3</th>\n",
       "      <td>서울</td>\n",
       "      <td>200101</td>\n",
       "      <td>69.04635</td>\n",
       "    </tr>\n",
       "    <tr>\n",
       "      <th>4</th>\n",
       "      <td>서울</td>\n",
       "      <td>200101</td>\n",
       "      <td>69.04635</td>\n",
       "    </tr>\n",
       "    <tr>\n",
       "      <th>...</th>\n",
       "      <td>...</td>\n",
       "      <td>...</td>\n",
       "      <td>...</td>\n",
       "    </tr>\n",
       "    <tr>\n",
       "      <th>53953461</th>\n",
       "      <td>인천</td>\n",
       "      <td>201812</td>\n",
       "      <td>16.00000</td>\n",
       "    </tr>\n",
       "    <tr>\n",
       "      <th>53953462</th>\n",
       "      <td>인천</td>\n",
       "      <td>201812</td>\n",
       "      <td>6.00000</td>\n",
       "    </tr>\n",
       "    <tr>\n",
       "      <th>53953463</th>\n",
       "      <td>인천</td>\n",
       "      <td>201812</td>\n",
       "      <td>19.00000</td>\n",
       "    </tr>\n",
       "    <tr>\n",
       "      <th>53953464</th>\n",
       "      <td>인천</td>\n",
       "      <td>201812</td>\n",
       "      <td>15.00000</td>\n",
       "    </tr>\n",
       "    <tr>\n",
       "      <th>53953465</th>\n",
       "      <td>인천</td>\n",
       "      <td>201812</td>\n",
       "      <td>14.00000</td>\n",
       "    </tr>\n",
       "  </tbody>\n",
       "</table>\n",
       "<p>53953466 rows × 3 columns</p>\n",
       "</div>"
      ],
      "text/plain": [
       "          지역    측정일시      PM10\n",
       "0         서울  200101  69.04635\n",
       "1         서울  200101  69.04635\n",
       "2         서울  200101  69.04635\n",
       "3         서울  200101  69.04635\n",
       "4         서울  200101  69.04635\n",
       "...       ..     ...       ...\n",
       "53953461  인천  201812  16.00000\n",
       "53953462  인천  201812   6.00000\n",
       "53953463  인천  201812  19.00000\n",
       "53953464  인천  201812  15.00000\n",
       "53953465  인천  201812  14.00000\n",
       "\n",
       "[53953466 rows x 3 columns]"
      ]
     },
     "execution_count": 21,
     "metadata": {},
     "output_type": "execute_result"
    }
   ],
   "source": [
    "df0121"
   ]
  },
  {
   "cell_type": "code",
   "execution_count": 23,
   "id": "7895e322",
   "metadata": {},
   "outputs": [
    {
     "data": {
      "text/plain": [
       "지역  측정일시  \n",
       "강원  200101    47.518714\n",
       "    200102    50.319527\n",
       "    200103    59.379205\n",
       "    200104    76.165577\n",
       "    200105    58.542465\n",
       "                ...    \n",
       "충북  202012    44.561584\n",
       "    202101    43.609956\n",
       "    202102    46.532468\n",
       "    202103    62.655097\n",
       "    202104    40.937967\n",
       "Name: PM10, Length: 3968, dtype: float64"
      ]
     },
     "execution_count": 23,
     "metadata": {},
     "output_type": "execute_result"
    }
   ],
   "source": [
    "df0121.groupby(['지역', '측정일시'])['PM10'].mean()"
   ]
  },
  {
   "cell_type": "code",
   "execution_count": 24,
   "id": "9aa9483d",
   "metadata": {},
   "outputs": [
    {
     "data": {
      "text/plain": [
       "측정일시\n",
       "200101     69.046350\n",
       "200102     78.603589\n",
       "200103    101.451026\n",
       "200104     94.508187\n",
       "200105     77.665523\n",
       "             ...    \n",
       "202012     43.227902\n",
       "202101     38.951581\n",
       "202102     49.371352\n",
       "202103     68.588171\n",
       "202104     43.343496\n",
       "Name: PM10, Length: 244, dtype: float64"
      ]
     },
     "execution_count": 24,
     "metadata": {},
     "output_type": "execute_result"
    }
   ],
   "source": [
    "df0121[df0121['지역']=='서울'].groupby('측정일시')['PM10'].mean()"
   ]
  },
  {
   "cell_type": "code",
   "execution_count": 30,
   "id": "e796383a",
   "metadata": {},
   "outputs": [],
   "source": [
    "pm10_per_place=df0121.groupby(['지역'])['PM10'].mean()"
   ]
  },
  {
   "cell_type": "code",
   "execution_count": 31,
   "id": "7cbdbb63",
   "metadata": {},
   "outputs": [],
   "source": [
    "pm10_per_place = pm10_per_place.reset_index()"
   ]
  },
  {
   "cell_type": "code",
   "execution_count": 100,
   "id": "9540bf8b",
   "metadata": {},
   "outputs": [
    {
     "data": {
      "text/html": [
       "<div>\n",
       "<style scoped>\n",
       "    .dataframe tbody tr th:only-of-type {\n",
       "        vertical-align: middle;\n",
       "    }\n",
       "\n",
       "    .dataframe tbody tr th {\n",
       "        vertical-align: top;\n",
       "    }\n",
       "\n",
       "    .dataframe thead th {\n",
       "        text-align: right;\n",
       "    }\n",
       "</style>\n",
       "<table border=\"1\" class=\"dataframe\">\n",
       "  <thead>\n",
       "    <tr style=\"text-align: right;\">\n",
       "      <th></th>\n",
       "      <th>지역</th>\n",
       "      <th>PM10</th>\n",
       "    </tr>\n",
       "  </thead>\n",
       "  <tbody>\n",
       "    <tr>\n",
       "      <th>0</th>\n",
       "      <td>강원</td>\n",
       "      <td>43.421065</td>\n",
       "    </tr>\n",
       "    <tr>\n",
       "      <th>1</th>\n",
       "      <td>경기</td>\n",
       "      <td>55.403391</td>\n",
       "    </tr>\n",
       "    <tr>\n",
       "      <th>2</th>\n",
       "      <td>경남</td>\n",
       "      <td>44.128040</td>\n",
       "    </tr>\n",
       "    <tr>\n",
       "      <th>3</th>\n",
       "      <td>경북</td>\n",
       "      <td>44.711823</td>\n",
       "    </tr>\n",
       "    <tr>\n",
       "      <th>4</th>\n",
       "      <td>광주</td>\n",
       "      <td>45.587154</td>\n",
       "    </tr>\n",
       "    <tr>\n",
       "      <th>5</th>\n",
       "      <td>대구</td>\n",
       "      <td>50.274988</td>\n",
       "    </tr>\n",
       "    <tr>\n",
       "      <th>6</th>\n",
       "      <td>대전</td>\n",
       "      <td>44.957583</td>\n",
       "    </tr>\n",
       "    <tr>\n",
       "      <th>7</th>\n",
       "      <td>부산</td>\n",
       "      <td>48.658379</td>\n",
       "    </tr>\n",
       "    <tr>\n",
       "      <th>8</th>\n",
       "      <td>서울</td>\n",
       "      <td>53.421810</td>\n",
       "    </tr>\n",
       "    <tr>\n",
       "      <th>9</th>\n",
       "      <td>세종</td>\n",
       "      <td>42.277667</td>\n",
       "    </tr>\n",
       "    <tr>\n",
       "      <th>10</th>\n",
       "      <td>울산</td>\n",
       "      <td>45.904279</td>\n",
       "    </tr>\n",
       "    <tr>\n",
       "      <th>11</th>\n",
       "      <td>인천</td>\n",
       "      <td>51.208194</td>\n",
       "    </tr>\n",
       "    <tr>\n",
       "      <th>12</th>\n",
       "      <td>전남</td>\n",
       "      <td>38.207687</td>\n",
       "    </tr>\n",
       "    <tr>\n",
       "      <th>13</th>\n",
       "      <td>전북</td>\n",
       "      <td>47.723883</td>\n",
       "    </tr>\n",
       "    <tr>\n",
       "      <th>14</th>\n",
       "      <td>제주</td>\n",
       "      <td>40.610068</td>\n",
       "    </tr>\n",
       "    <tr>\n",
       "      <th>15</th>\n",
       "      <td>충남</td>\n",
       "      <td>45.378295</td>\n",
       "    </tr>\n",
       "    <tr>\n",
       "      <th>16</th>\n",
       "      <td>충북</td>\n",
       "      <td>49.685900</td>\n",
       "    </tr>\n",
       "  </tbody>\n",
       "</table>\n",
       "</div>"
      ],
      "text/plain": [
       "    지역       PM10\n",
       "0   강원  43.421065\n",
       "1   경기  55.403391\n",
       "2   경남  44.128040\n",
       "3   경북  44.711823\n",
       "4   광주  45.587154\n",
       "5   대구  50.274988\n",
       "6   대전  44.957583\n",
       "7   부산  48.658379\n",
       "8   서울  53.421810\n",
       "9   세종  42.277667\n",
       "10  울산  45.904279\n",
       "11  인천  51.208194\n",
       "12  전남  38.207687\n",
       "13  전북  47.723883\n",
       "14  제주  40.610068\n",
       "15  충남  45.378295\n",
       "16  충북  49.685900"
      ]
     },
     "execution_count": 100,
     "metadata": {},
     "output_type": "execute_result"
    }
   ],
   "source": [
    "pm10_per_place"
   ]
  },
  {
   "cell_type": "code",
   "execution_count": 98,
   "id": "8a6086b9",
   "metadata": {},
   "outputs": [],
   "source": [
    "m = pd.DataFrame(pm10_per_place)\n",
    "m.to_csv(r'C:\\Users\\82103\\Downloads\\pm10_per_place.csv')"
   ]
  },
  {
   "cell_type": "code",
   "execution_count": 108,
   "id": "1ca704d5",
   "metadata": {},
   "outputs": [],
   "source": [
    "k = pm10_per_place.describe()"
   ]
  },
  {
   "cell_type": "code",
   "execution_count": 109,
   "id": "4c8f8224",
   "metadata": {},
   "outputs": [
    {
     "data": {
      "text/html": [
       "<div>\n",
       "<style scoped>\n",
       "    .dataframe tbody tr th:only-of-type {\n",
       "        vertical-align: middle;\n",
       "    }\n",
       "\n",
       "    .dataframe tbody tr th {\n",
       "        vertical-align: top;\n",
       "    }\n",
       "\n",
       "    .dataframe thead th {\n",
       "        text-align: right;\n",
       "    }\n",
       "</style>\n",
       "<table border=\"1\" class=\"dataframe\">\n",
       "  <thead>\n",
       "    <tr style=\"text-align: right;\">\n",
       "      <th></th>\n",
       "      <th>PM10</th>\n",
       "    </tr>\n",
       "  </thead>\n",
       "  <tbody>\n",
       "    <tr>\n",
       "      <th>count</th>\n",
       "      <td>17.000000</td>\n",
       "    </tr>\n",
       "    <tr>\n",
       "      <th>mean</th>\n",
       "      <td>46.562365</td>\n",
       "    </tr>\n",
       "    <tr>\n",
       "      <th>std</th>\n",
       "      <td>4.501741</td>\n",
       "    </tr>\n",
       "    <tr>\n",
       "      <th>min</th>\n",
       "      <td>38.207687</td>\n",
       "    </tr>\n",
       "    <tr>\n",
       "      <th>25%</th>\n",
       "      <td>44.128040</td>\n",
       "    </tr>\n",
       "    <tr>\n",
       "      <th>50%</th>\n",
       "      <td>45.587154</td>\n",
       "    </tr>\n",
       "    <tr>\n",
       "      <th>75%</th>\n",
       "      <td>49.685900</td>\n",
       "    </tr>\n",
       "    <tr>\n",
       "      <th>max</th>\n",
       "      <td>55.403391</td>\n",
       "    </tr>\n",
       "  </tbody>\n",
       "</table>\n",
       "</div>"
      ],
      "text/plain": [
       "            PM10\n",
       "count  17.000000\n",
       "mean   46.562365\n",
       "std     4.501741\n",
       "min    38.207687\n",
       "25%    44.128040\n",
       "50%    45.587154\n",
       "75%    49.685900\n",
       "max    55.403391"
      ]
     },
     "execution_count": 109,
     "metadata": {},
     "output_type": "execute_result"
    }
   ],
   "source": [
    "k"
   ]
  },
  {
   "cell_type": "code",
   "execution_count": 111,
   "id": "d5435033",
   "metadata": {},
   "outputs": [],
   "source": [
    "pm10_per_place_date=df0121.groupby(['지역', '측정일시'])['PM10'].mean()"
   ]
  },
  {
   "cell_type": "code",
   "execution_count": 112,
   "id": "30336618",
   "metadata": {},
   "outputs": [],
   "source": [
    "pm10_per_place_date = pm10_per_place_date.reset_index()"
   ]
  },
  {
   "cell_type": "code",
   "execution_count": 139,
   "id": "58ba9cbc",
   "metadata": {},
   "outputs": [],
   "source": [
    "pm10perplacedate=pd.DataFrame(pm10_per_place_date)\n",
    "pm10perplacedate.to_csv(r'C:\\Users\\82103\\Downloads\\pm10perplacedate.csv')"
   ]
  },
  {
   "cell_type": "code",
   "execution_count": 148,
   "id": "9ae20ec4",
   "metadata": {},
   "outputs": [],
   "source": [
    "pm10perplacedate2=pm10_per_place_date.reset_index()"
   ]
  },
  {
   "cell_type": "code",
   "execution_count": 180,
   "id": "f833c54a",
   "metadata": {},
   "outputs": [],
   "source": [
    "chungbuk=pm10perplacedate2.iloc[3724:, :]"
   ]
  },
  {
   "cell_type": "code",
   "execution_count": 181,
   "id": "6ab0c206",
   "metadata": {},
   "outputs": [
    {
     "name": "stderr",
     "output_type": "stream",
     "text": [
      "<ipython-input-181-867eb7a1f09b>:1: SettingWithCopyWarning: \n",
      "A value is trying to be set on a copy of a slice from a DataFrame.\n",
      "Try using .loc[row_indexer,col_indexer] = value instead\n",
      "\n",
      "See the caveats in the documentation: https://pandas.pydata.org/pandas-docs/stable/user_guide/indexing.html#returning-a-view-versus-a-copy\n",
      "<ipython-input-181-867eb7a1f09b>:2: SettingWithCopyWarning: \n",
      "A value is trying to be set on a copy of a slice from a DataFrame.\n",
      "Try using .loc[row_indexer,col_indexer] = value instead\n",
      "\n",
      "See the caveats in the documentation: https://pandas.pydata.org/pandas-docs/stable/user_guide/indexing.html#returning-a-view-versus-a-copy\n",
      "<ipython-input-181-867eb7a1f09b>:3: SettingWithCopyWarning: \n",
      "A value is trying to be set on a copy of a slice from a DataFrame.\n",
      "Try using .loc[row_indexer,col_indexer] = value instead\n",
      "\n",
      "See the caveats in the documentation: https://pandas.pydata.org/pandas-docs/stable/user_guide/indexing.html#returning-a-view-versus-a-copy\n"
     ]
    }
   ],
   "source": [
    "chungbuk['측정일시'] = chungbuk['측정일시'].astype(str)\n",
    "chungbuk['측정일시'] = chungbuk['측정일시'].str[:4]\n",
    "chungbuk['측정일시']=pd.to_numeric(chungbuk['측정일시'])"
   ]
  },
  {
   "cell_type": "code",
   "execution_count": 182,
   "id": "1e63a00c",
   "metadata": {},
   "outputs": [
    {
     "data": {
      "text/html": [
       "<div>\n",
       "<style scoped>\n",
       "    .dataframe tbody tr th:only-of-type {\n",
       "        vertical-align: middle;\n",
       "    }\n",
       "\n",
       "    .dataframe tbody tr th {\n",
       "        vertical-align: top;\n",
       "    }\n",
       "\n",
       "    .dataframe thead th {\n",
       "        text-align: right;\n",
       "    }\n",
       "</style>\n",
       "<table border=\"1\" class=\"dataframe\">\n",
       "  <thead>\n",
       "    <tr style=\"text-align: right;\">\n",
       "      <th></th>\n",
       "      <th>index</th>\n",
       "      <th>지역</th>\n",
       "      <th>측정일시</th>\n",
       "      <th>PM10</th>\n",
       "    </tr>\n",
       "  </thead>\n",
       "  <tbody>\n",
       "    <tr>\n",
       "      <th>3724</th>\n",
       "      <td>3724</td>\n",
       "      <td>충북</td>\n",
       "      <td>2001</td>\n",
       "      <td>64.890557</td>\n",
       "    </tr>\n",
       "    <tr>\n",
       "      <th>3725</th>\n",
       "      <td>3725</td>\n",
       "      <td>충북</td>\n",
       "      <td>2001</td>\n",
       "      <td>69.388417</td>\n",
       "    </tr>\n",
       "    <tr>\n",
       "      <th>3726</th>\n",
       "      <td>3726</td>\n",
       "      <td>충북</td>\n",
       "      <td>2001</td>\n",
       "      <td>110.403393</td>\n",
       "    </tr>\n",
       "    <tr>\n",
       "      <th>3727</th>\n",
       "      <td>3727</td>\n",
       "      <td>충북</td>\n",
       "      <td>2001</td>\n",
       "      <td>91.007580</td>\n",
       "    </tr>\n",
       "    <tr>\n",
       "      <th>3728</th>\n",
       "      <td>3728</td>\n",
       "      <td>충북</td>\n",
       "      <td>2001</td>\n",
       "      <td>70.285258</td>\n",
       "    </tr>\n",
       "    <tr>\n",
       "      <th>...</th>\n",
       "      <td>...</td>\n",
       "      <td>...</td>\n",
       "      <td>...</td>\n",
       "      <td>...</td>\n",
       "    </tr>\n",
       "    <tr>\n",
       "      <th>3963</th>\n",
       "      <td>3963</td>\n",
       "      <td>충북</td>\n",
       "      <td>2020</td>\n",
       "      <td>44.561584</td>\n",
       "    </tr>\n",
       "    <tr>\n",
       "      <th>3964</th>\n",
       "      <td>3964</td>\n",
       "      <td>충북</td>\n",
       "      <td>2021</td>\n",
       "      <td>43.609956</td>\n",
       "    </tr>\n",
       "    <tr>\n",
       "      <th>3965</th>\n",
       "      <td>3965</td>\n",
       "      <td>충북</td>\n",
       "      <td>2021</td>\n",
       "      <td>46.532468</td>\n",
       "    </tr>\n",
       "    <tr>\n",
       "      <th>3966</th>\n",
       "      <td>3966</td>\n",
       "      <td>충북</td>\n",
       "      <td>2021</td>\n",
       "      <td>62.655097</td>\n",
       "    </tr>\n",
       "    <tr>\n",
       "      <th>3967</th>\n",
       "      <td>3967</td>\n",
       "      <td>충북</td>\n",
       "      <td>2021</td>\n",
       "      <td>40.937967</td>\n",
       "    </tr>\n",
       "  </tbody>\n",
       "</table>\n",
       "<p>244 rows × 4 columns</p>\n",
       "</div>"
      ],
      "text/plain": [
       "      index  지역  측정일시        PM10\n",
       "3724   3724  충북  2001   64.890557\n",
       "3725   3725  충북  2001   69.388417\n",
       "3726   3726  충북  2001  110.403393\n",
       "3727   3727  충북  2001   91.007580\n",
       "3728   3728  충북  2001   70.285258\n",
       "...     ...  ..   ...         ...\n",
       "3963   3963  충북  2020   44.561584\n",
       "3964   3964  충북  2021   43.609956\n",
       "3965   3965  충북  2021   46.532468\n",
       "3966   3966  충북  2021   62.655097\n",
       "3967   3967  충북  2021   40.937967\n",
       "\n",
       "[244 rows x 4 columns]"
      ]
     },
     "execution_count": 182,
     "metadata": {},
     "output_type": "execute_result"
    }
   ],
   "source": [
    "chungbuk"
   ]
  },
  {
   "cell_type": "code",
   "execution_count": 185,
   "id": "7c0e1ed7",
   "metadata": {},
   "outputs": [],
   "source": [
    "chungbuk=chungbuk.drop(['index'], axis=1)"
   ]
  },
  {
   "cell_type": "code",
   "execution_count": 186,
   "id": "2147d339",
   "metadata": {},
   "outputs": [
    {
     "data": {
      "text/html": [
       "<div>\n",
       "<style scoped>\n",
       "    .dataframe tbody tr th:only-of-type {\n",
       "        vertical-align: middle;\n",
       "    }\n",
       "\n",
       "    .dataframe tbody tr th {\n",
       "        vertical-align: top;\n",
       "    }\n",
       "\n",
       "    .dataframe thead th {\n",
       "        text-align: right;\n",
       "    }\n",
       "</style>\n",
       "<table border=\"1\" class=\"dataframe\">\n",
       "  <thead>\n",
       "    <tr style=\"text-align: right;\">\n",
       "      <th></th>\n",
       "      <th>지역</th>\n",
       "      <th>측정일시</th>\n",
       "      <th>PM10</th>\n",
       "    </tr>\n",
       "  </thead>\n",
       "  <tbody>\n",
       "    <tr>\n",
       "      <th>3724</th>\n",
       "      <td>충북</td>\n",
       "      <td>2001</td>\n",
       "      <td>64.890557</td>\n",
       "    </tr>\n",
       "    <tr>\n",
       "      <th>3725</th>\n",
       "      <td>충북</td>\n",
       "      <td>2001</td>\n",
       "      <td>69.388417</td>\n",
       "    </tr>\n",
       "    <tr>\n",
       "      <th>3726</th>\n",
       "      <td>충북</td>\n",
       "      <td>2001</td>\n",
       "      <td>110.403393</td>\n",
       "    </tr>\n",
       "    <tr>\n",
       "      <th>3727</th>\n",
       "      <td>충북</td>\n",
       "      <td>2001</td>\n",
       "      <td>91.007580</td>\n",
       "    </tr>\n",
       "    <tr>\n",
       "      <th>3728</th>\n",
       "      <td>충북</td>\n",
       "      <td>2001</td>\n",
       "      <td>70.285258</td>\n",
       "    </tr>\n",
       "    <tr>\n",
       "      <th>...</th>\n",
       "      <td>...</td>\n",
       "      <td>...</td>\n",
       "      <td>...</td>\n",
       "    </tr>\n",
       "    <tr>\n",
       "      <th>3963</th>\n",
       "      <td>충북</td>\n",
       "      <td>2020</td>\n",
       "      <td>44.561584</td>\n",
       "    </tr>\n",
       "    <tr>\n",
       "      <th>3964</th>\n",
       "      <td>충북</td>\n",
       "      <td>2021</td>\n",
       "      <td>43.609956</td>\n",
       "    </tr>\n",
       "    <tr>\n",
       "      <th>3965</th>\n",
       "      <td>충북</td>\n",
       "      <td>2021</td>\n",
       "      <td>46.532468</td>\n",
       "    </tr>\n",
       "    <tr>\n",
       "      <th>3966</th>\n",
       "      <td>충북</td>\n",
       "      <td>2021</td>\n",
       "      <td>62.655097</td>\n",
       "    </tr>\n",
       "    <tr>\n",
       "      <th>3967</th>\n",
       "      <td>충북</td>\n",
       "      <td>2021</td>\n",
       "      <td>40.937967</td>\n",
       "    </tr>\n",
       "  </tbody>\n",
       "</table>\n",
       "<p>244 rows × 3 columns</p>\n",
       "</div>"
      ],
      "text/plain": [
       "      지역  측정일시        PM10\n",
       "3724  충북  2001   64.890557\n",
       "3725  충북  2001   69.388417\n",
       "3726  충북  2001  110.403393\n",
       "3727  충북  2001   91.007580\n",
       "3728  충북  2001   70.285258\n",
       "...   ..   ...         ...\n",
       "3963  충북  2020   44.561584\n",
       "3964  충북  2021   43.609956\n",
       "3965  충북  2021   46.532468\n",
       "3966  충북  2021   62.655097\n",
       "3967  충북  2021   40.937967\n",
       "\n",
       "[244 rows x 3 columns]"
      ]
     },
     "execution_count": 186,
     "metadata": {},
     "output_type": "execute_result"
    }
   ],
   "source": [
    "chungbuk"
   ]
  },
  {
   "cell_type": "code",
   "execution_count": 189,
   "id": "b1c86042",
   "metadata": {},
   "outputs": [],
   "source": [
    "year_chungbuk=chungbuk.groupby('측정일시')['PM10'].mean().reset_index()"
   ]
  },
  {
   "cell_type": "code",
   "execution_count": 190,
   "id": "f2ca9041",
   "metadata": {},
   "outputs": [],
   "source": [
    "year_chungbuk=pd.DataFrame(year_chungbuk)\n",
    "year_chungbuk.to_csv(r'C:\\Users\\82103\\Downloads\\year_chungbuk.csv')"
   ]
  },
  {
   "cell_type": "code",
   "execution_count": null,
   "id": "67461f66",
   "metadata": {},
   "outputs": [],
   "source": []
  }
 ],
 "metadata": {
  "kernelspec": {
   "display_name": "Python 3",
   "language": "python",
   "name": "python3"
  },
  "language_info": {
   "codemirror_mode": {
    "name": "ipython",
    "version": 3
   },
   "file_extension": ".py",
   "mimetype": "text/x-python",
   "name": "python",
   "nbconvert_exporter": "python",
   "pygments_lexer": "ipython3",
   "version": "3.8.8"
  }
 },
 "nbformat": 4,
 "nbformat_minor": 5
}
