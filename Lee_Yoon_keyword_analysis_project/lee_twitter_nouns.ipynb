{
 "cells": [
  {
   "cell_type": "code",
   "execution_count": 1,
   "id": "c4959a5e",
   "metadata": {},
   "outputs": [],
   "source": [
    "import pandas as pd\n",
    "from konlpy.tag import Okt\n",
    "import re\n",
    "okt = Okt()"
   ]
  },
  {
   "cell_type": "code",
   "execution_count": 2,
   "id": "c1664fed",
   "metadata": {},
   "outputs": [],
   "source": [
    "file = r'C:\\Users\\82103\\Downloads\\lee_tweet.csv'\n",
    "df = pd.read_csv(file)"
   ]
  },
  {
   "cell_type": "code",
   "execution_count": 3,
   "id": "12d659a6",
   "metadata": {},
   "outputs": [
    {
     "data": {
      "text/html": [
       "<div>\n",
       "<style scoped>\n",
       "    .dataframe tbody tr th:only-of-type {\n",
       "        vertical-align: middle;\n",
       "    }\n",
       "\n",
       "    .dataframe tbody tr th {\n",
       "        vertical-align: top;\n",
       "    }\n",
       "\n",
       "    .dataframe thead th {\n",
       "        text-align: right;\n",
       "    }\n",
       "</style>\n",
       "<table border=\"1\" class=\"dataframe\">\n",
       "  <thead>\n",
       "    <tr style=\"text-align: right;\">\n",
       "      <th></th>\n",
       "      <th>content</th>\n",
       "    </tr>\n",
       "  </thead>\n",
       "  <tbody>\n",
       "    <tr>\n",
       "      <th>0</th>\n",
       "      <td>하나같이 국짐당 의원들은 누가 써준거 읽는거 말곤 자기가 할줄 아는 말들이 하나도 ...</td>\n",
       "    </tr>\n",
       "    <tr>\n",
       "      <th>1</th>\n",
       "      <td>이준석-박철민 친분 주장...\"방명록과 수사보고서 등 근거 있어\"(김진태) / 이재...</td>\n",
       "    </tr>\n",
       "    <tr>\n",
       "      <th>2</th>\n",
       "      <td>'패완얼'이란 말이 한동안 유행했었다.\\n\\n패션의 완성은 얼굴..이라는 뜻.\\n\\...</td>\n",
       "    </tr>\n",
       "    <tr>\n",
       "      <th>3</th>\n",
       "      <td>윤석열 vs 이재명 인성 논란? 이 영상 하나로 종결 짓습니다. (+심각한 언론 형...</td>\n",
       "    </tr>\n",
       "    <tr>\n",
       "      <th>4</th>\n",
       "      <td>[네이버 블로그]\\n‘개발이익 환수하라’더니 ‘공급절벽이니 하지 말라’는 보수언론,...</td>\n",
       "    </tr>\n",
       "    <tr>\n",
       "      <th>...</th>\n",
       "      <td>...</td>\n",
       "    </tr>\n",
       "    <tr>\n",
       "      <th>655833</th>\n",
       "      <td>여성들은 윤석열도 극혐하는 사람이 많아서 이재명 대신 윤 찍으라고 설득하는 데에 한...</td>\n",
       "    </tr>\n",
       "    <tr>\n",
       "      <th>655834</th>\n",
       "      <td>와 이재명이 집에 쟁여둔 돈의 비밀이 이런거구나 지역상품권 만들어서 받은 돈세탁한 ...</td>\n",
       "    </tr>\n",
       "    <tr>\n",
       "      <th>655835</th>\n",
       "      <td>송영길, 이준석에 \"이재명 부부싸움 유언비어.. '크라켄' 작동해 국민의힘 지지자 ...</td>\n",
       "    </tr>\n",
       "    <tr>\n",
       "      <th>655836</th>\n",
       "      <td>@Jaemyung_Lee 말은 이미ㅏㄴ기네</td>\n",
       "    </tr>\n",
       "    <tr>\n",
       "      <th>655837</th>\n",
       "      <td>대선 주자들은 합창하듯 집을 더 많이 짓겠다고 이야기하고 있어요.\\n더불어민주당 이...</td>\n",
       "    </tr>\n",
       "  </tbody>\n",
       "</table>\n",
       "<p>640751 rows × 1 columns</p>\n",
       "</div>"
      ],
      "text/plain": [
       "                                                  content\n",
       "0       하나같이 국짐당 의원들은 누가 써준거 읽는거 말곤 자기가 할줄 아는 말들이 하나도 ...\n",
       "1       이준석-박철민 친분 주장...\"방명록과 수사보고서 등 근거 있어\"(김진태) / 이재...\n",
       "2       '패완얼'이란 말이 한동안 유행했었다.\\n\\n패션의 완성은 얼굴..이라는 뜻.\\n\\...\n",
       "3       윤석열 vs 이재명 인성 논란? 이 영상 하나로 종결 짓습니다. (+심각한 언론 형...\n",
       "4       [네이버 블로그]\\n‘개발이익 환수하라’더니 ‘공급절벽이니 하지 말라’는 보수언론,...\n",
       "...                                                   ...\n",
       "655833  여성들은 윤석열도 극혐하는 사람이 많아서 이재명 대신 윤 찍으라고 설득하는 데에 한...\n",
       "655834  와 이재명이 집에 쟁여둔 돈의 비밀이 이런거구나 지역상품권 만들어서 받은 돈세탁한 ...\n",
       "655835  송영길, 이준석에 \"이재명 부부싸움 유언비어.. '크라켄' 작동해 국민의힘 지지자 ...\n",
       "655836                            @Jaemyung_Lee 말은 이미ㅏㄴ기네\n",
       "655837  대선 주자들은 합창하듯 집을 더 많이 짓겠다고 이야기하고 있어요.\\n더불어민주당 이...\n",
       "\n",
       "[640751 rows x 1 columns]"
      ]
     },
     "execution_count": 3,
     "metadata": {},
     "output_type": "execute_result"
    }
   ],
   "source": [
    "df = df.fillna('')\n",
    "df = df.drop_duplicates()\n",
    "df"
   ]
  },
  {
   "cell_type": "code",
   "execution_count": 4,
   "id": "1547516b",
   "metadata": {},
   "outputs": [],
   "source": [
    "stop_words_path = r'C:\\Users\\82103\\Downloads\\stop_words.txt'\n",
    "with open(stop_words_path, encoding='utf-8') as f:\n",
    "    stop_words = [w.strip() for w in f.readlines() if not w.isspace()]"
   ]
  },
  {
   "cell_type": "code",
   "execution_count": 10,
   "id": "1d21727b",
   "metadata": {},
   "outputs": [
    {
     "data": {
      "text/plain": [
       "['아', '휴', '아이구', '아이쿠', '아이고', '어', '나', '우리', '저희', '따라']"
      ]
     },
     "execution_count": 10,
     "metadata": {},
     "output_type": "execute_result"
    }
   ],
   "source": [
    "stop_words[:10]"
   ]
  },
  {
   "cell_type": "code",
   "execution_count": 5,
   "id": "d3f7a70c",
   "metadata": {},
   "outputs": [],
   "source": [
    "def preprocessing(text):\n",
    "    hangeul = re.compile(r'[^ㄱ-ㅣ가-힣]+')\n",
    "    hangeuls = hangeul.sub('', text)\n",
    "    nouns = okt.nouns(hangeuls)\n",
    "    nouns = [noun for noun in nouns if len(noun)>1 and noun not in stop_words]\n",
    "    return nouns"
   ]
  },
  {
   "cell_type": "code",
   "execution_count": 6,
   "id": "29027707",
   "metadata": {},
   "outputs": [],
   "source": [
    "df['nouns'] = df['content'].apply(lambda x: preprocessing(x))"
   ]
  },
  {
   "cell_type": "code",
   "execution_count": 7,
   "id": "b5835bdd",
   "metadata": {},
   "outputs": [
    {
     "data": {
      "text/html": [
       "<div>\n",
       "<style scoped>\n",
       "    .dataframe tbody tr th:only-of-type {\n",
       "        vertical-align: middle;\n",
       "    }\n",
       "\n",
       "    .dataframe tbody tr th {\n",
       "        vertical-align: top;\n",
       "    }\n",
       "\n",
       "    .dataframe thead th {\n",
       "        text-align: right;\n",
       "    }\n",
       "</style>\n",
       "<table border=\"1\" class=\"dataframe\">\n",
       "  <thead>\n",
       "    <tr style=\"text-align: right;\">\n",
       "      <th></th>\n",
       "      <th>content</th>\n",
       "      <th>nouns</th>\n",
       "    </tr>\n",
       "  </thead>\n",
       "  <tbody>\n",
       "    <tr>\n",
       "      <th>0</th>\n",
       "      <td>하나같이 국짐당 의원들은 누가 써준거 읽는거 말곤 자기가 할줄 아는 말들이 하나도 ...</td>\n",
       "      <td>[이국, 의원, 누가, 자기, 이재명, 국감, 오세훈, 국감, 박근혜, 윤석열, 전...</td>\n",
       "    </tr>\n",
       "    <tr>\n",
       "      <th>1</th>\n",
       "      <td>이준석-박철민 친분 주장...\"방명록과 수사보고서 등 근거 있어\"(김진태) / 이재...</td>\n",
       "      <td>[이준석, 박철민, 친분, 주장, 방명록, 수사, 보고서, 근거, 김진태, 이재명,...</td>\n",
       "    </tr>\n",
       "    <tr>\n",
       "      <th>2</th>\n",
       "      <td>'패완얼'이란 말이 한동안 유행했었다.\\n\\n패션의 완성은 얼굴..이라는 뜻.\\n\\...</td>\n",
       "      <td>[패완얼, 유행, 패션, 완성, 얼굴, 이재명, 천만원, 꼴뚜기, 오징어, 오징어,...</td>\n",
       "    </tr>\n",
       "    <tr>\n",
       "      <th>3</th>\n",
       "      <td>윤석열 vs 이재명 인성 논란? 이 영상 하나로 종결 짓습니다. (+심각한 언론 형...</td>\n",
       "      <td>[윤석열, 이재명, 인성, 논란, 영상, 하나로, 종결, 언론, 형평성, 쓰레기, ...</td>\n",
       "    </tr>\n",
       "    <tr>\n",
       "      <th>4</th>\n",
       "      <td>[네이버 블로그]\\n‘개발이익 환수하라’더니 ‘공급절벽이니 하지 말라’는 보수언론,...</td>\n",
       "      <td>[네이버, 블로그, 개발이익, 환수, 더니, 공급, 절벽, 보수, 언론, 기본, 주...</td>\n",
       "    </tr>\n",
       "    <tr>\n",
       "      <th>...</th>\n",
       "      <td>...</td>\n",
       "      <td>...</td>\n",
       "    </tr>\n",
       "    <tr>\n",
       "      <th>655833</th>\n",
       "      <td>여성들은 윤석열도 극혐하는 사람이 많아서 이재명 대신 윤 찍으라고 설득하는 데에 한...</td>\n",
       "      <td>[여성, 윤석열, 사람, 이재명, 대신, 설득, 한참, 대한, 극복, 여성, 군소,...</td>\n",
       "    </tr>\n",
       "    <tr>\n",
       "      <th>655834</th>\n",
       "      <td>와 이재명이 집에 쟁여둔 돈의 비밀이 이런거구나 지역상품권 만들어서 받은 돈세탁한 ...</td>\n",
       "      <td>[이집, 비밀, 거구, 지역, 상품권, 돈세탁, 세탁, 담당, 김현지]</td>\n",
       "    </tr>\n",
       "    <tr>\n",
       "      <th>655835</th>\n",
       "      <td>송영길, 이준석에 \"이재명 부부싸움 유언비어.. '크라켄' 작동해 국민의힘 지지자 ...</td>\n",
       "      <td>[송영길, 이준석, 이재명, 부부싸움, 유언비어, 크라켄, 동해, 국민, 지지자, ...</td>\n",
       "    </tr>\n",
       "    <tr>\n",
       "      <th>655836</th>\n",
       "      <td>@Jaemyung_Lee 말은 이미ㅏㄴ기네</td>\n",
       "      <td>[기네]</td>\n",
       "    </tr>\n",
       "    <tr>\n",
       "      <th>655837</th>\n",
       "      <td>대선 주자들은 합창하듯 집을 더 많이 짓겠다고 이야기하고 있어요.\\n더불어민주당 이...</td>\n",
       "      <td>[대선, 주자, 합창, 듯집, 이야기, 민주당, 이재명, 후보, 국민, 윤석열, 후...</td>\n",
       "    </tr>\n",
       "  </tbody>\n",
       "</table>\n",
       "<p>640751 rows × 2 columns</p>\n",
       "</div>"
      ],
      "text/plain": [
       "                                                  content  \\\n",
       "0       하나같이 국짐당 의원들은 누가 써준거 읽는거 말곤 자기가 할줄 아는 말들이 하나도 ...   \n",
       "1       이준석-박철민 친분 주장...\"방명록과 수사보고서 등 근거 있어\"(김진태) / 이재...   \n",
       "2       '패완얼'이란 말이 한동안 유행했었다.\\n\\n패션의 완성은 얼굴..이라는 뜻.\\n\\...   \n",
       "3       윤석열 vs 이재명 인성 논란? 이 영상 하나로 종결 짓습니다. (+심각한 언론 형...   \n",
       "4       [네이버 블로그]\\n‘개발이익 환수하라’더니 ‘공급절벽이니 하지 말라’는 보수언론,...   \n",
       "...                                                   ...   \n",
       "655833  여성들은 윤석열도 극혐하는 사람이 많아서 이재명 대신 윤 찍으라고 설득하는 데에 한...   \n",
       "655834  와 이재명이 집에 쟁여둔 돈의 비밀이 이런거구나 지역상품권 만들어서 받은 돈세탁한 ...   \n",
       "655835  송영길, 이준석에 \"이재명 부부싸움 유언비어.. '크라켄' 작동해 국민의힘 지지자 ...   \n",
       "655836                            @Jaemyung_Lee 말은 이미ㅏㄴ기네   \n",
       "655837  대선 주자들은 합창하듯 집을 더 많이 짓겠다고 이야기하고 있어요.\\n더불어민주당 이...   \n",
       "\n",
       "                                                    nouns  \n",
       "0       [이국, 의원, 누가, 자기, 이재명, 국감, 오세훈, 국감, 박근혜, 윤석열, 전...  \n",
       "1       [이준석, 박철민, 친분, 주장, 방명록, 수사, 보고서, 근거, 김진태, 이재명,...  \n",
       "2       [패완얼, 유행, 패션, 완성, 얼굴, 이재명, 천만원, 꼴뚜기, 오징어, 오징어,...  \n",
       "3       [윤석열, 이재명, 인성, 논란, 영상, 하나로, 종결, 언론, 형평성, 쓰레기, ...  \n",
       "4       [네이버, 블로그, 개발이익, 환수, 더니, 공급, 절벽, 보수, 언론, 기본, 주...  \n",
       "...                                                   ...  \n",
       "655833  [여성, 윤석열, 사람, 이재명, 대신, 설득, 한참, 대한, 극복, 여성, 군소,...  \n",
       "655834            [이집, 비밀, 거구, 지역, 상품권, 돈세탁, 세탁, 담당, 김현지]  \n",
       "655835  [송영길, 이준석, 이재명, 부부싸움, 유언비어, 크라켄, 동해, 국민, 지지자, ...  \n",
       "655836                                               [기네]  \n",
       "655837  [대선, 주자, 합창, 듯집, 이야기, 민주당, 이재명, 후보, 국민, 윤석열, 후...  \n",
       "\n",
       "[640751 rows x 2 columns]"
      ]
     },
     "execution_count": 7,
     "metadata": {},
     "output_type": "execute_result"
    }
   ],
   "source": [
    "df"
   ]
  },
  {
   "cell_type": "code",
   "execution_count": 9,
   "id": "6af42310",
   "metadata": {},
   "outputs": [],
   "source": [
    "df.to_csv(r'C:\\Users\\82103\\Downloads\\이재명nouns.csv', index=False)"
   ]
  },
  {
   "cell_type": "code",
   "execution_count": null,
   "id": "4d84fdf7",
   "metadata": {},
   "outputs": [],
   "source": []
  }
 ],
 "metadata": {
  "kernelspec": {
   "display_name": "Python 3",
   "language": "python",
   "name": "python3"
  },
  "language_info": {
   "codemirror_mode": {
    "name": "ipython",
    "version": 3
   },
   "file_extension": ".py",
   "mimetype": "text/x-python",
   "name": "python",
   "nbconvert_exporter": "python",
   "pygments_lexer": "ipython3",
   "version": "3.8.8"
  }
 },
 "nbformat": 4,
 "nbformat_minor": 5
}
