{
 "cells": [
  {
   "cell_type": "code",
   "execution_count": 11,
   "metadata": {},
   "outputs": [],
   "source": [
    "import numpy as np"
   ]
  },
  {
   "cell_type": "code",
   "execution_count": 2,
   "metadata": {},
   "outputs": [
    {
     "name": "stdout",
     "output_type": "stream",
     "text": [
      "[1, 2]\n"
     ]
    }
   ],
   "source": [
    "mylist = [0,1,2,3,4]\n",
    "\n",
    "print(mylist[1:3])"
   ]
  },
  {
   "cell_type": "code",
   "execution_count": 3,
   "metadata": {},
   "outputs": [
    {
     "name": "stdout",
     "output_type": "stream",
     "text": [
      "[0, 1, 2]\n"
     ]
    }
   ],
   "source": [
    "print(mylist[:-2])"
   ]
  },
  {
   "cell_type": "code",
   "execution_count": 4,
   "metadata": {},
   "outputs": [
    {
     "name": "stdout",
     "output_type": "stream",
     "text": [
      "[4, 3, 2, 1, 0]\n"
     ]
    }
   ],
   "source": [
    "print(mylist[::-1])"
   ]
  },
  {
   "cell_type": "code",
   "execution_count": 7,
   "metadata": {},
   "outputs": [
    {
     "name": "stdout",
     "output_type": "stream",
     "text": [
      "[[3, 5, 7], [9, 11, 13]]\n"
     ]
    }
   ],
   "source": [
    "x=[[0,1,2],[3,4,5]]\n",
    "y=[[3,4,5],[6,7,8]]\n",
    "\n",
    "x1 = np.array(x)\n",
    "y1= np.array(y)\n",
    "\n",
    "z= x1+y1\n",
    "\n",
    "z = [[0,0,0],[0,0,0]]\n",
    "for i in range(len(x)):\n",
    "    for j in range(len(x[i])):\n",
    "        z[i][j] = x[i][j]+y[i][j]\n",
    "        \n",
    "print(z)"
   ]
  },
  {
   "cell_type": "code",
   "execution_count": 8,
   "metadata": {},
   "outputs": [
    {
     "data": {
      "text/plain": [
       "list"
      ]
     },
     "execution_count": 8,
     "metadata": {},
     "output_type": "execute_result"
    }
   ],
   "source": [
    "type(z)"
   ]
  },
  {
   "cell_type": "code",
   "execution_count": 9,
   "metadata": {},
   "outputs": [
    {
     "data": {
      "text/plain": [
       "numpy.ndarray"
      ]
     },
     "execution_count": 9,
     "metadata": {},
     "output_type": "execute_result"
    }
   ],
   "source": [
    "type(x1)"
   ]
  },
  {
   "cell_type": "code",
   "execution_count": 37,
   "metadata": {},
   "outputs": [
    {
     "name": "stdout",
     "output_type": "stream",
     "text": [
      "가나나다러ㅏㄴㅇ러ㅏㅣㅇㄴ\n",
      "\n"
     ]
    }
   ],
   "source": [
    "s = \"\"\"가나나다러ㅏㄴㅇ러ㅏㅣㅇㄴ\n",
    "\"\"\"\n",
    "s1 ='''djkrjdklfjl\n",
    "'''\n",
    "print(s)"
   ]
  },
  {
   "cell_type": "code",
   "execution_count": 2,
   "metadata": {},
   "outputs": [
    {
     "name": "stdout",
     "output_type": "stream",
     "text": [
      "[0 1 2 3 4 5 6 7 8 9]\n",
      "(10,)\n"
     ]
    }
   ],
   "source": [
    "a1 = np.arange(10)\n",
    "print(a1)\n",
    "print(a1.shape)"
   ]
  },
  {
   "cell_type": "code",
   "execution_count": 3,
   "metadata": {},
   "outputs": [
    {
     "name": "stdout",
     "output_type": "stream",
     "text": [
      "[0 2 4 6 8]\n"
     ]
    }
   ],
   "source": [
    "a2 = np.arange(0,10,2)    \n",
    "print(a2)                "
   ]
  },
  {
   "cell_type": "code",
   "execution_count": 4,
   "metadata": {},
   "outputs": [
    {
     "name": "stdout",
     "output_type": "stream",
     "text": [
      "[0. 0. 0. 0. 0.]\n",
      "(5,)\n"
     ]
    }
   ],
   "source": [
    "a3 = np.zeros(5) \n",
    "print(a3) \n",
    "print(a3.shape)"
   ]
  },
  {
   "cell_type": "code",
   "execution_count": 5,
   "metadata": {},
   "outputs": [
    {
     "name": "stdout",
     "output_type": "stream",
     "text": [
      "(2, 3)\n"
     ]
    }
   ],
   "source": [
    "a4 = np.zeros((2,3))\n",
    "print(a4.shape)"
   ]
  },
  {
   "cell_type": "code",
   "execution_count": 6,
   "metadata": {},
   "outputs": [
    {
     "name": "stdout",
     "output_type": "stream",
     "text": [
      "[[0. 0. 0.]\n",
      " [0. 0. 0.]]\n"
     ]
    }
   ],
   "source": [
    "print(a4)"
   ]
  },
  {
   "cell_type": "code",
   "execution_count": 7,
   "metadata": {},
   "outputs": [
    {
     "name": "stdout",
     "output_type": "stream",
     "text": [
      "[[8 8 8]\n",
      " [8 8 8]]\n"
     ]
    }
   ],
   "source": [
    "a5 = np.full((2,3), 8)\n",
    "print(a5)"
   ]
  },
  {
   "cell_type": "code",
   "execution_count": 8,
   "metadata": {},
   "outputs": [
    {
     "name": "stdout",
     "output_type": "stream",
     "text": [
      "[[1. 0. 0. 0.]\n",
      " [0. 1. 0. 0.]\n",
      " [0. 0. 1. 0.]\n",
      " [0. 0. 0. 1.]]\n"
     ]
    }
   ],
   "source": [
    "a6 = np.eye(4)\n",
    "print(a6)"
   ]
  },
  {
   "cell_type": "code",
   "execution_count": 9,
   "metadata": {},
   "outputs": [
    {
     "name": "stdout",
     "output_type": "stream",
     "text": [
      "[[0.88501306 0.22274658 0.51901749 0.42577079]\n",
      " [0.3761105  0.09342529 0.19687489 0.54962704]]\n"
     ]
    }
   ],
   "source": [
    "a7 = np.random.random((2,4)) \n",
    "                    # rank 2 array (2 rows 4 columns) with\n",
    "                    # random values\n",
    "                    # in the half-open interval [0.0, 1.0)\n",
    "print(a7)"
   ]
  },
  {
   "cell_type": "code",
   "execution_count": 4,
   "metadata": {},
   "outputs": [
    {
     "name": "stdout",
     "output_type": "stream",
     "text": [
      "[1 2 3 4 5]\n"
     ]
    }
   ],
   "source": [
    "list1 = [1,2,3,4,5]  # list1 is a list in Python\n",
    "r1 = np.array(list1) # rank 1 array\n",
    "print(r1)            # [1 2 3 4 5]"
   ]
  },
  {
   "cell_type": "code",
   "execution_count": 5,
   "metadata": {},
   "outputs": [
    {
     "data": {
      "text/plain": [
       "list"
      ]
     },
     "execution_count": 5,
     "metadata": {},
     "output_type": "execute_result"
    }
   ],
   "source": [
    "type(list1)"
   ]
  },
  {
   "cell_type": "code",
   "execution_count": 6,
   "metadata": {},
   "outputs": [
    {
     "data": {
      "text/plain": [
       "numpy.ndarray"
      ]
     },
     "execution_count": 6,
     "metadata": {},
     "output_type": "execute_result"
    }
   ],
   "source": [
    "type(r1)"
   ]
  },
  {
   "cell_type": "code",
   "execution_count": 11,
   "metadata": {},
   "outputs": [
    {
     "name": "stdout",
     "output_type": "stream",
     "text": [
      "1\n",
      "2\n",
      "[[1 2 3 4 5]\n",
      " [6 7 8 9 0]]\n",
      "(2, 5)\n",
      "1\n",
      "2\n",
      "6\n",
      "[3 5]\n"
     ]
    }
   ],
   "source": [
    "print(r1[0])         # 1\n",
    "print(r1[1])         # 2\n",
    "list2 = [6,7,8,9,0]\n",
    "r2 = np.array([list1,list2])\n",
    "print(r2)            # rank 2 array\n",
    "'''\n",
    "[[1 2 3 4 5]\n",
    "[6 7 8 9 0]] '''\n",
    "print(r2.shape)      # (2,5) - 2 rows and 5 columns\n",
    "print(r2[0,0])       # 1\n",
    "print(r2[0,1])       # 2\n",
    "print(r2[1,0])       # 6\n",
    "list1 = [1,2,3,4,5]\n",
    "r1 = np.array(list1)\n",
    "print(r1[[2,4]])     # [3 5]"
   ]
  },
  {
   "cell_type": "code",
   "execution_count": null,
   "metadata": {},
   "outputs": [],
   "source": []
  },
  {
   "cell_type": "code",
   "execution_count": 12,
   "metadata": {},
   "outputs": [
    {
     "name": "stdout",
     "output_type": "stream",
     "text": [
      "[False False  True  True  True]\n",
      "[3 4 5]\n",
      "[ 0  1  2  3  4  5  6  7  8  9 10 11 12 13 14 15 16 17 18 19]\n",
      "[ 1  3  5  7  9 11 13 15 17 19]\n"
     ]
    }
   ],
   "source": [
    "print(r1>2)     # [False False  True  True  True]\n",
    "print(r1[r1>2])    # [3 4 5]\n",
    "nums = np.arange(20)\n",
    "print(nums)        # [ 0  1  2  ... 11 12 13 14 15 16 17 18 19]\n",
    "odd_num = nums[nums % 2 == 1]\n",
    "print(odd_num)     # [ 1  3  5  7  9 11 13 15 17 19]"
   ]
  },
  {
   "cell_type": "code",
   "execution_count": 13,
   "metadata": {},
   "outputs": [
    {
     "name": "stdout",
     "output_type": "stream",
     "text": [
      "[[1 2 3 4 5]\n",
      " [4 5 6 7 8]\n",
      " [9 8 7 6 5]]\n",
      "[[4 5 6]\n",
      " [9 8 7]]\n",
      "[[7 8]\n",
      " [6 5]]\n",
      "[[6 7 8]\n",
      " [7 6 5]]\n",
      "[[ 1  2  3  4  5]\n",
      " [ 4  5  6  7 88]\n",
      " [ 9  8  7  6  5]]\n",
      "[[9 8 7 6 5]]\n",
      "(1, 5)\n"
     ]
    }
   ],
   "source": [
    "a = np.array([[1,2,3,4,5],\n",
    "              [4,5,6,7,8],\n",
    "              [9,8,7,6,5]]) # rank 2 array\n",
    "print(a)\n",
    "'''\n",
    "[[1 2 3 4 5]\n",
    "[4 5 6 7 8]\n",
    "[9 8 7 6 5]] '''\n",
    "b1 = a[1:3, :3]\n",
    "    # row 1 to 3 (not inclusive) and first 3 columns\n",
    "print(b1)\n",
    "b2 = a[-2:,-2:]\n",
    "print(b2)\n",
    "b3 = a[1:, 2:]      # row 1 onwards and column 2 onwards\n",
    "                    # b3 is now pointing to a subset of a\n",
    "print(b3)\n",
    "b3[0,2] = 88 # b3[0,2] is pointing to a[1,4]; modifying it will\n",
    "             # modify the original array\n",
    "print(a)\n",
    "b4 = a[2:, :]       # row 2 onwards and all columns\n",
    "print(b4)\n",
    "print(b4.shape)"
   ]
  },
  {
   "cell_type": "code",
   "execution_count": 12,
   "metadata": {},
   "outputs": [
    {
     "name": "stdout",
     "output_type": "stream",
     "text": [
      "[[1 2 3 4 5]\n",
      " [4 5 6 7 8]\n",
      " [9 8 7 6 5]]\n",
      "[[4 5 6]\n",
      " [9 8 7]]\n"
     ]
    }
   ],
   "source": [
    "a = np.array([[1,2,3,4,5],\n",
    "              [4,5,6,7,8],\n",
    "              [9,8,7,6,5]]) # rank 2 array\n",
    "print(a)\n",
    "'''\n",
    "[[1 2 3 4 5]\n",
    "[4 5 6 7 8]\n",
    "[9 8 7 6 5]] '''\n",
    "b1 = a[1:3, :3]\n",
    "    # row 1 to 3 (not inclusive) and first 3 columns\n",
    "print(b1)"
   ]
  },
  {
   "cell_type": "code",
   "execution_count": 18,
   "metadata": {},
   "outputs": [
    {
     "name": "stdout",
     "output_type": "stream",
     "text": [
      "[6 5]\n",
      "[28.88888889 14.51836889 23.046875  ]\n",
      "Overweight:  ['Ann']\n",
      "Underweight:  ['Joe']\n",
      "Healthy:  ['Mark']\n"
     ]
    }
   ],
   "source": [
    "x = np.array([2,3]) \n",
    "y = np.array([4,2]) \n",
    "z = x + y\n",
    "print(z)\n",
    "\n",
    "names   = np.array(['Ann','Joe','Mark'])\n",
    "heights = np.array([1.5, 1.78, 1.6])\n",
    "weights = np.array([65, 46, 59])\n",
    "\n",
    "bmi = weights/heights **2            # calculate the BMI\n",
    "print(bmi) # [ 28.88888889  14.51836889   23.046875  ]\n",
    "\n",
    "print(\"Overweight: \" , names[bmi>25])\n",
    "# Overweight:  ['Ann']\n",
    "print(\"Underweight: \" , names[bmi<18.5])\n",
    "# Underweight:  ['Joe']\n",
    "print(\"Healthy: \" , names[(bmi>=18.5) & (bmi<=25)])\n",
    "# Healthy:  ['Mark']"
   ]
  },
  {
   "cell_type": "code",
   "execution_count": 20,
   "metadata": {},
   "outputs": [
    {
     "name": "stdout",
     "output_type": "stream",
     "text": [
      "[[ 58  64]\n",
      " [139 154]]\n"
     ]
    }
   ],
   "source": [
    "x2 = np.array([[1,2,3],[4,5,6]])\n",
    "y2 = np.array([[7,8],[9,10], [11,12]])\n",
    "print(np.dot(x2,y2))"
   ]
  },
  {
   "cell_type": "code",
   "execution_count": 21,
   "metadata": {},
   "outputs": [
    {
     "name": "stdout",
     "output_type": "stream",
     "text": [
      "[[1 2 3]\n",
      " [4 5 6]\n",
      " [7 8 9]]\n",
      "[ 1  3  6 10 15 21 28 36 45]\n",
      "[[ 1  2  3]\n",
      " [ 5  7  9]\n",
      " [12 15 18]]\n",
      "[[ 1  3  6]\n",
      " [ 4  9 15]\n",
      " [ 7 15 24]]\n"
     ]
    }
   ],
   "source": [
    "a = np.array([(1,2,3),(4,5,6), (7,8,9)])\n",
    "print(a)\n",
    "'''\n",
    "[[1 2 3]\n",
    "[4 5 6]\n",
    "[7 8 9]] '''\n",
    "\n",
    "# Cumulative Sum\n",
    "print(a.cumsum()) # prints the cumulative sum of all the\n",
    "                  # elements in the array\n",
    "                  # [ 1  3  6 10 15 21 28 36 45]\n",
    "print(a.cumsum(axis=0))  \n",
    "# sum over rows for each of the 3 columns\n",
    "print(a.cumsum(axis=1))  \n",
    "# sum over columns for each of the 3 rows"
   ]
  },
  {
   "cell_type": "code",
   "execution_count": 22,
   "metadata": {},
   "outputs": [
    {
     "name": "stdout",
     "output_type": "stream",
     "text": [
      "[ 5 12 13 34 37]\n",
      "[34 12 37  5 13]\n",
      "[ 5 12 13 34 37]\n",
      "[3 1 4 0 2]\n"
     ]
    }
   ],
   "source": [
    "ages = np.array([34,12,37,5,13])\n",
    "sorted_ages = np.sort(ages)\n",
    "print(sorted_ages)\n",
    "print(ages)\n",
    "ages.sort()                   # modifies the array\n",
    "print(ages)                   # [ 5 12 13 34 37]\n",
    "ages = np.array([34,12,37,5,13])\n",
    "print(ages.argsort())         # [3 1 4 0 2]"
   ]
  },
  {
   "cell_type": "code",
   "execution_count": 7,
   "metadata": {},
   "outputs": [
    {
     "name": "stdout",
     "output_type": "stream",
     "text": [
      "0    1\n",
      "1    2\n",
      "2    3\n",
      "3    4\n",
      "4    5\n",
      "dtype: int64\n",
      "a    1\n",
      "b    2\n",
      "c    3\n",
      "d    4\n",
      "c    5\n",
      "dtype: int64\n",
      "3\n",
      "3\n",
      "4\n",
      "4\n",
      "c    3\n",
      "d    4\n",
      "c    5\n",
      "dtype: int64\n",
      "c    3\n",
      "d    4\n",
      "c    5\n",
      "dtype: int64\n"
     ]
    }
   ],
   "source": [
    "# Pandas stands for Panel Data Analysis.\n",
    "\n",
    "import pandas as pd\n",
    "series = pd.Series([1,2,3,4,5])\n",
    "print(series)\n",
    "\n",
    "series = pd.Series([1,2,3,4,5], index=['a','b','c','d','c'])\n",
    "print(series)\n",
    "\n",
    "print(series[2])          # 3\n",
    "  # same as\n",
    "print(series.iloc[2])     \n",
    "# 3  - based on the position of the index\n",
    "\n",
    "print(series['d'])        # 4\n",
    "    # same as\n",
    "print(series.loc['d'])    \n",
    "# 4 - based on the label in the index\n",
    "\n",
    "print(series[2:])         # returns a Series\n",
    "print(series.iloc[2:])    # returns a Series"
   ]
  },
  {
   "cell_type": "code",
   "execution_count": 8,
   "metadata": {},
   "outputs": [
    {
     "name": "stdout",
     "output_type": "stream",
     "text": [
      "DatetimeIndex(['2019-05-25', '2019-05-26', '2019-05-27', '2019-05-28',\n",
      "               '2019-05-29', '2019-05-30', '2019-05-31', '2019-06-01',\n",
      "               '2019-06-02', '2019-06-03', '2019-06-04', '2019-06-05'],\n",
      "              dtype='datetime64[ns]', freq='D')\n",
      "2019-05-25     1\n",
      "2019-05-26     2\n",
      "2019-05-27     3\n",
      "2019-05-28     4\n",
      "2019-05-29     5\n",
      "2019-05-30     6\n",
      "2019-05-31     7\n",
      "2019-06-01     8\n",
      "2019-06-02     9\n",
      "2019-06-03    10\n",
      "2019-06-04    11\n",
      "2019-06-05    12\n",
      "Freq: D, dtype: int64\n"
     ]
    }
   ],
   "source": [
    "dates1 = pd.date_range('20190525', periods=12)\n",
    "print(dates1)\n",
    "\n",
    "series = pd.Series([1,2,3,4,5,6,7,8,9,10,11,12])\n",
    "series.index = dates1\n",
    "print(series)"
   ]
  },
  {
   "cell_type": "code",
   "execution_count": 9,
   "metadata": {},
   "outputs": [
    {
     "name": "stdout",
     "output_type": "stream",
     "text": [
      "          A         B         C         D\n",
      "0 -1.580880  0.356512  1.347830  0.420711\n",
      "1 -3.039650 -1.161323  0.024068 -1.751626\n",
      "2  0.029008  1.170472  0.701966  0.165582\n",
      "3  1.524562 -0.932944 -0.222846 -1.330724\n",
      "4  0.007992  0.202968  1.440372 -0.240814\n",
      "5  0.069716 -1.905796 -1.381472  0.476243\n",
      "6 -1.867213 -1.100507  0.485470  1.955429\n",
      "7 -0.677773 -1.146159  1.762654  0.129031\n",
      "8  0.203841 -0.024464 -0.575576 -1.972606\n",
      "9 -0.741636 -1.837317  1.942517  0.292937\n"
     ]
    }
   ],
   "source": [
    "import pandas as pd\n",
    "import numpy as np\n",
    "df = pd.DataFrame(np.random.randn(10,4),\n",
    "                columns=list('ABCD'))\n",
    "print(df)\n",
    "\n",
    "df.to_csv('data.csv', index=False)"
   ]
  },
  {
   "cell_type": "code",
   "execution_count": 10,
   "metadata": {},
   "outputs": [
    {
     "name": "stdout",
     "output_type": "stream",
     "text": [
      "                   A         B         C         D\n",
      "2019-05-25 -1.580880  0.356512  1.347830  0.420711\n",
      "2019-05-26 -3.039650 -1.161323  0.024068 -1.751626\n",
      "2019-05-27  0.029008  1.170472  0.701966  0.165582\n",
      "2019-05-28  1.524562 -0.932944 -0.222846 -1.330724\n",
      "2019-05-29  0.007992  0.202968  1.440372 -0.240814\n",
      "2019-05-30  0.069716 -1.905796 -1.381472  0.476243\n",
      "2019-05-31 -1.867213 -1.100507  0.485470  1.955429\n",
      "2019-06-01 -0.677773 -1.146159  1.762654  0.129031\n",
      "2019-06-02  0.203841 -0.024464 -0.575576 -1.972606\n",
      "2019-06-03 -0.741636 -1.837317  1.942517  0.292937\n",
      "DatetimeIndex(['2019-05-25', '2019-05-26', '2019-05-27', '2019-05-28',\n",
      "               '2019-05-29', '2019-05-30', '2019-05-31', '2019-06-01',\n",
      "               '2019-06-02', '2019-06-03'],\n",
      "              dtype='datetime64[ns]', freq='D')\n",
      "[[-1.58087973  0.35651203  1.3478299   0.42071083]\n",
      " [-3.03964995 -1.1613232   0.02406812 -1.75162593]\n",
      " [ 0.02900801  1.17047212  0.70196622  0.16558186]\n",
      " [ 1.52456158 -0.93294355 -0.22284558 -1.33072447]\n",
      " [ 0.00799222  0.20296823  1.44037197 -0.24081376]\n",
      " [ 0.0697158  -1.90579559 -1.38147198  0.47624341]\n",
      " [-1.86721284 -1.10050718  0.48547044  1.95542946]\n",
      " [-0.67777295 -1.14615897  1.76265418  0.12903138]\n",
      " [ 0.20384078 -0.0244643  -0.57557613 -1.97260635]\n",
      " [-0.74163566 -1.83731698  1.94251679  0.29293732]]\n"
     ]
    }
   ],
   "source": [
    "df = pd.read_csv('data.csv')\n",
    "days = pd.date_range('20190525', periods=10)\n",
    "df.index = days\n",
    "print(df)\n",
    "print(df.index)\n",
    "print(df.values)"
   ]
  },
  {
   "cell_type": "code",
   "execution_count": 11,
   "metadata": {},
   "outputs": [
    {
     "name": "stdout",
     "output_type": "stream",
     "text": [
      "               A          B          C          D\n",
      "count  10.000000  10.000000  10.000000  10.000000\n",
      "mean   -0.607203  -0.637856   0.552498  -0.185584\n",
      "std     1.287512   1.012255   1.092272   1.192624\n",
      "min    -3.039650  -1.905796  -1.381472  -1.972606\n",
      "25%    -1.371069  -1.157532  -0.161117  -1.058247\n",
      "50%    -0.334890  -1.016725   0.593718   0.147307\n",
      "75%     0.059539   0.146110   1.417236   0.388767\n",
      "max     1.524562   1.170472   1.942517   1.955429\n",
      "A   -0.607203\n",
      "B   -0.637856\n",
      "C    0.552498\n",
      "D   -0.185584\n",
      "dtype: float64\n",
      "2019-05-25    0.136043\n",
      "2019-05-26   -1.482133\n",
      "2019-05-27    0.516757\n",
      "2019-05-28   -0.240488\n",
      "2019-05-29    0.352630\n",
      "2019-05-30   -0.685327\n",
      "2019-05-31   -0.131705\n",
      "2019-06-01    0.016938\n",
      "2019-06-02   -0.592202\n",
      "2019-06-03   -0.085875\n",
      "Freq: D, dtype: float64\n",
      "                   A         B         C         D\n",
      "2019-05-25 -1.580880  0.356512  1.347830  0.420711\n",
      "2019-05-26 -3.039650 -1.161323  0.024068 -1.751626\n",
      "2019-05-27  0.029008  1.170472  0.701966  0.165582\n",
      "2019-05-28  1.524562 -0.932944 -0.222846 -1.330724\n",
      "2019-05-29  0.007992  0.202968  1.440372 -0.240814\n",
      "                   A         B         C         D\n",
      "2019-05-30  0.069716 -1.905796 -1.381472  0.476243\n",
      "2019-05-31 -1.867213 -1.100507  0.485470  1.955429\n",
      "2019-06-01 -0.677773 -1.146159  1.762654  0.129031\n",
      "2019-06-02  0.203841 -0.024464 -0.575576 -1.972606\n",
      "2019-06-03 -0.741636 -1.837317  1.942517  0.292937\n",
      "2019-05-25   -1.580880\n",
      "2019-05-26   -3.039650\n",
      "2019-05-27    0.029008\n",
      "2019-05-28    1.524562\n",
      "2019-05-29    0.007992\n",
      "2019-05-30    0.069716\n",
      "2019-05-31   -1.867213\n",
      "2019-06-01   -0.677773\n",
      "2019-06-02    0.203841\n",
      "2019-06-03   -0.741636\n",
      "Freq: D, Name: A, dtype: float64\n",
      "2019-05-25   -1.580880\n",
      "2019-05-26   -3.039650\n",
      "2019-05-27    0.029008\n",
      "2019-05-28    1.524562\n",
      "2019-05-29    0.007992\n",
      "2019-05-30    0.069716\n",
      "2019-05-31   -1.867213\n",
      "2019-06-01   -0.677773\n",
      "2019-06-02    0.203841\n",
      "2019-06-03   -0.741636\n",
      "Freq: D, Name: A, dtype: float64\n",
      "                   A         B\n",
      "2019-05-25 -1.580880  0.356512\n",
      "2019-05-26 -3.039650 -1.161323\n",
      "2019-05-27  0.029008  1.170472\n",
      "2019-05-28  1.524562 -0.932944\n",
      "2019-05-29  0.007992  0.202968\n",
      "2019-05-30  0.069716 -1.905796\n",
      "2019-05-31 -1.867213 -1.100507\n",
      "2019-06-01 -0.677773 -1.146159\n",
      "2019-06-02  0.203841 -0.024464\n",
      "2019-06-03 -0.741636 -1.837317\n",
      "                   A         B         C         D\n",
      "2019-05-27  0.029008  1.170472  0.701966  0.165582\n",
      "2019-05-28  1.524562 -0.932944 -0.222846 -1.330724\n",
      "                   A         B         C         D\n",
      "2019-05-27  0.029008  1.170472  0.701966  0.165582\n",
      "2019-05-28  1.524562 -0.932944 -0.222846 -1.330724\n",
      "                   A         B         C         D\n",
      "2019-05-27  0.029008  1.170472  0.701966  0.165582\n",
      "2019-05-29  0.007992  0.202968  1.440372 -0.240814\n"
     ]
    }
   ],
   "source": [
    "print(df.describe())\n",
    "print(df.mean(0))    \n",
    "# 0 means compute the mean for each columns\n",
    "print(df.mean(1))   # 1 means compute the mean for each row\n",
    "print(df.head())\n",
    "print(df.tail())\n",
    "\n",
    "print(df['A'])\n",
    "# same as\n",
    "print(df.A)\n",
    "\n",
    "print(df[['A', 'B']])\n",
    "print(df[2:4])\n",
    "print(df.iloc[2:4])\n",
    "\n",
    "print(df[(df.A > 0) & (df.B>0)])"
   ]
  },
  {
   "cell_type": "code",
   "execution_count": 12,
   "metadata": {},
   "outputs": [
    {
     "name": "stdout",
     "output_type": "stream",
     "text": [
      "                   A         B\n",
      "2019-05-25 -1.580880  0.356512\n",
      "2019-05-26 -3.039650 -1.161323\n",
      "2019-05-27  0.029008  1.170472\n",
      "2019-05-28  1.524562 -0.932944\n",
      "2019-05-29  0.007992  0.202968\n",
      "2019-05-30  0.069716 -1.905796\n",
      "2019-05-31 -1.867213 -1.100507\n",
      "2019-06-01 -0.677773 -1.146159\n",
      "2019-06-02  0.203841 -0.024464\n",
      "2019-06-03 -0.741636 -1.837317\n",
      "                   A         B         C         D\n",
      "2019-05-27  0.029008  1.170472  0.701966  0.165582\n",
      "2019-05-28  1.524562 -0.932944 -0.222846 -1.330724\n",
      "                   A         B         C         D\n",
      "2019-05-27  0.029008  1.170472  0.701966  0.165582\n",
      "2019-05-28  1.524562 -0.932944 -0.222846 -1.330724\n"
     ]
    }
   ],
   "source": [
    "print(df[['A', 'B']])\n",
    "print(df[2:4])\n",
    "print(df.iloc[2:4])"
   ]
  },
  {
   "cell_type": "code",
   "execution_count": 35,
   "metadata": {},
   "outputs": [
    {
     "name": "stdout",
     "output_type": "stream",
     "text": [
      "              name  year  reports\n",
      "Singapore    Janet  2012        6\n",
      "China          Nad  2012       13\n",
      "Japan      Timothy  2013       14\n",
      "Sweden        June  2014        1\n",
      "Norway         Amy  2014        7\n",
      "              name  year  reports     school\n",
      "Singapore    Janet  2012        6  Cambridge\n",
      "China          Nad  2012       13     Oxford\n",
      "Japan      Timothy  2013       14     Oxford\n",
      "Sweden        June  2014        1  Cambridge\n",
      "Norway         Amy  2014        7     Oxford\n",
      "            name  year  reports     school\n",
      "Singapore  Janet  2012        6  Cambridge\n",
      "Sweden      June  2014        1  Cambridge\n",
      "Norway       Amy  2014        7     Oxford\n"
     ]
    }
   ],
   "source": [
    "import pandas as pd\n",
    "data = {'name': ['Janet', 'Nad', 'Timothy', 'June', 'Amy'],\n",
    "      'year': [2012, 2012, 2013, 2014, 2014],\n",
    "      'reports': [6, 13, 14, 1, 7]}\n",
    "df = pd.DataFrame(data, index =\n",
    "     ['Singapore', 'China', 'Japan', 'Sweden', 'Norway'])\n",
    "print(df)\n",
    "\n",
    "import numpy as np\n",
    "schools = np.array([\"Cambridge\",\"Oxford\",\"Oxford\",\"Cambridge\",\n",
    "                    \"Oxford\"])\n",
    "df[\"school\"] = schools\n",
    "print(df)\n",
    "\n",
    "print(df.drop(['China', 'Japan'])) \n",
    "# drop rows based on value of index\n",
    "print(df[df.name != 'Nad']) # drop row based on column value\n",
    "\n",
    "print(df.drop('reports', axis=1))   # drop column\n"
   ]
  },
  {
   "cell_type": "code",
   "execution_count": 36,
   "metadata": {},
   "outputs": [
    {
     "name": "stdout",
     "output_type": "stream",
     "text": [
      "   Gender  Team\n",
      "0    Male     1\n",
      "1    Male     2\n",
      "2  Female     3\n",
      "3  Female     3\n",
      "4  Female     1\n",
      "Displaying the distribution of genders in each team\n",
      "Team    1  2  3\n",
      "Gender         \n",
      "Female  1  0  2\n",
      "Male    1  1  0\n",
      "Gender  Female  Male\n",
      "Team                \n",
      "1            1     1\n",
      "2            0     1\n",
      "3            2     0\n"
     ]
    }
   ],
   "source": [
    "df = pd.DataFrame(\n",
    "      {\n",
    "          \"Gender\": ['Male','Male','Female','Female','Female'],\n",
    "          \"Team\"  : [1,2,3,3,1]\n",
    "      })\n",
    "print(df)\n",
    "\n",
    "print(\"Displaying the distribution of genders in each team\")\n",
    "print(pd.crosstab(df.Gender, df.Team))\n",
    "\n",
    "print(pd.crosstab(df.Team, df.Gender))"
   ]
  },
  {
   "cell_type": "code",
   "execution_count": 1,
   "metadata": {},
   "outputs": [
    {
     "data": {
      "text/plain": [
       "<re.Match object; span=(0, 3), match='wow'>"
      ]
     },
     "execution_count": 1,
     "metadata": {},
     "output_type": "execute_result"
    }
   ],
   "source": [
    "import re\n",
    "\n",
    "re.search(\"(\\w+)\", \"wow, it is awesom\")"
   ]
  },
  {
   "cell_type": "code",
   "execution_count": 2,
   "metadata": {},
   "outputs": [
    {
     "data": {
      "text/plain": [
       "['', 'wow', ', ', 'it', ' ', 'is', ' ', 'world', ' ', 'of', ' ', 'word', '']"
      ]
     },
     "execution_count": 2,
     "metadata": {},
     "output_type": "execute_result"
    }
   ],
   "source": [
    "re.split(\"(\\w+)\", \"wow, it is world of word\")"
   ]
  },
  {
   "cell_type": "code",
   "execution_count": 3,
   "metadata": {},
   "outputs": [
    {
     "data": {
      "text/plain": [
       "'number candy'"
      ]
     },
     "execution_count": 3,
     "metadata": {},
     "output_type": "execute_result"
    }
   ],
   "source": [
    "re.sub(\"\\d\", \"number\", \"7 candy\")"
   ]
  },
  {
   "cell_type": "code",
   "execution_count": 4,
   "metadata": {},
   "outputs": [
    {
     "data": {
      "text/plain": [
       "['wow', 'it', 'is', 'awesom']"
      ]
     },
     "execution_count": 4,
     "metadata": {},
     "output_type": "execute_result"
    }
   ],
   "source": [
    "re.findall(\"(\\w+)\", \"wow, it is awesom\")"
   ]
  },
  {
   "cell_type": "code",
   "execution_count": 6,
   "metadata": {},
   "outputs": [],
   "source": [
    "arr = range(10)"
   ]
  },
  {
   "cell_type": "code",
   "execution_count": 7,
   "metadata": {},
   "outputs": [
    {
     "data": {
      "text/plain": [
       "range"
      ]
     },
     "execution_count": 7,
     "metadata": {},
     "output_type": "execute_result"
    }
   ],
   "source": [
    "type(arr)"
   ]
  },
  {
   "cell_type": "code",
   "execution_count": 8,
   "metadata": {},
   "outputs": [
    {
     "name": "stdout",
     "output_type": "stream",
     "text": [
      "range(0, 10)\n"
     ]
    }
   ],
   "source": [
    "print(arr)"
   ]
  },
  {
   "cell_type": "code",
   "execution_count": 9,
   "metadata": {},
   "outputs": [
    {
     "data": {
      "text/plain": [
       "[0, 1, 2, 3, 4, 5, 6, 7, 8, 9]"
      ]
     },
     "execution_count": 9,
     "metadata": {},
     "output_type": "execute_result"
    }
   ],
   "source": [
    "list(arr)"
   ]
  },
  {
   "cell_type": "code",
   "execution_count": null,
   "metadata": {},
   "outputs": [],
   "source": []
  }
 ],
 "metadata": {
  "kernelspec": {
   "display_name": "Python 3",
   "language": "python",
   "name": "python3"
  },
  "language_info": {
   "codemirror_mode": {
    "name": "ipython",
    "version": 3
   },
   "file_extension": ".py",
   "mimetype": "text/x-python",
   "name": "python",
   "nbconvert_exporter": "python",
   "pygments_lexer": "ipython3",
   "version": "3.8.8"
  }
 },
 "nbformat": 4,
 "nbformat_minor": 4
}
